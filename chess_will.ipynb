{
  "nbformat": 4,
  "nbformat_minor": 0,
  "metadata": {
    "colab": {
      "provenance": [],
      "authorship_tag": "ABX9TyOoZ8MV3gy5NqM5E1A51NQo",
      "include_colab_link": true
    },
    "kernelspec": {
      "name": "python3",
      "display_name": "Python 3"
    },
    "language_info": {
      "name": "python"
    }
  },
  "cells": [
    {
      "cell_type": "markdown",
      "metadata": {
        "id": "view-in-github",
        "colab_type": "text"
      },
      "source": [
        "<a href=\"https://colab.research.google.com/github/wmangoni/chess_wm_ai/blob/main/chess_will.ipynb\" target=\"_parent\"><img src=\"https://colab.research.google.com/assets/colab-badge.svg\" alt=\"Open In Colab\"/></a>"
      ]
    },
    {
      "cell_type": "code",
      "execution_count": null,
      "metadata": {
        "id": "RfmeibK268TV"
      },
      "outputs": [],
      "source": [
        "!pip install python-chess\n",
        "!pip install python-polyglot"
      ]
    },
    {
      "cell_type": "code",
      "source": [
        "import chess\n",
        "import chess.svg"
      ],
      "metadata": {
        "id": "8qLQCGgA9svn"
      },
      "execution_count": 3,
      "outputs": []
    },
    {
      "cell_type": "code",
      "source": [
        "class MaterialScore:\n",
        "  def score(self, tabuleiro):\n",
        "      wp = len(tabuleiro.pieces(chess.PAWN, chess.WHITE))\n",
        "      bp = len(tabuleiro.pieces(chess.PAWN, chess.BLACK))\n",
        "      wn = len(tabuleiro.pieces(chess.KNIGHT, chess.WHITE))\n",
        "      bn = len(tabuleiro.pieces(chess.KNIGHT, chess.BLACK))\n",
        "      wb = len(tabuleiro.pieces(chess.BISHOP, chess.WHITE))\n",
        "      bb = len(tabuleiro.pieces(chess.BISHOP, chess.BLACK))\n",
        "      wr = len(tabuleiro.pieces(chess.ROOK, chess.WHITE))\n",
        "      br = len(tabuleiro.pieces(chess.ROOK, chess.BLACK))\n",
        "      wq = len(tabuleiro.pieces(chess.QUEEN, chess.WHITE))\n",
        "      bq = len(tabuleiro.pieces(chess.QUEEN, chess.BLACK))\n",
        "\n",
        "      material = 100 * (wp - bp) + 320 * (wn - bn) + 330 * (wb - bb) + 500 * (wr - br) + 900 * (wq - bq)\n",
        "\n",
        "      return material"
      ],
      "metadata": {
        "id": "ZTbcEaNKRJy5"
      },
      "execution_count": 25,
      "outputs": []
    },
    {
      "cell_type": "code",
      "source": [
        "pawntable = [\n",
        "    0, 0, 0, 0, 0, 0, 0, 0,\n",
        "    5, 10, 10, -20, -20, 10, 10, 5,\n",
        "    5, -5, -10, 0, 0, -10, -5, 5,\n",
        "    0, 0, 0, 20, 20, 0, 0, 0,\n",
        "    5, 5, 10, 25, 25, 10, 5, 5,\n",
        "    10, 10, 20, 30, 30, 20, 10, 10,\n",
        "    50, 50, 50, 50, 50, 50, 50, 50,\n",
        "    0, 0, 0, 0, 0, 0, 0, 0]\n",
        "\n",
        "knightstable = [\n",
        "    -50, -40, -30, -30, -30, -30, -40, -50,\n",
        "    -40, -20, 0, 5, 5, 0, -20, -40,\n",
        "    -30, 5, 10, 15, 15, 10, 5, -30,\n",
        "    -30, 0, 15, 20, 20, 15, 0, -30,\n",
        "    -30, 5, 15, 20, 20, 15, 5, -30,\n",
        "    -30, 0, 10, 15, 15, 10, 0, -30,\n",
        "    -40, -20, 0, 0, 0, 0, -20, -40,\n",
        "    -50, -40, -30, -30, -30, -30, -40, -50]\n",
        "\n",
        "bishopstable = [\n",
        "    -20, -10, -10, -10, -10, -10, -10, -20,\n",
        "    -10, 5, 0, 0, 0, 0, 5, -10,\n",
        "    -10, 10, 10, 10, 10, 10, 10, -10,\n",
        "    -10, 0, 10, 10, 10, 10, 0, -10,\n",
        "    -10, 5, 5, 10, 10, 5, 5, -10,\n",
        "    -10, 0, 5, 10, 10, 5, 0, -10,\n",
        "    -10, 0, 0, 0, 0, 0, 0, -10,\n",
        "    -20, -10, -10, -10, -10, -10, -10, -20]\n",
        "\n",
        "rookstable = [\n",
        "    0, 0, 0, 5, 5, 0, 0, 0,\n",
        "    -5, 0, 0, 0, 0, 0, 0, -5,\n",
        "    -5, 0, 0, 0, 0, 0, 0, -5,\n",
        "    -5, 0, 0, 0, 0, 0, 0, -5,\n",
        "    -5, 0, 0, 0, 0, 0, 0, -5,\n",
        "    -5, 0, 0, 0, 0, 0, 0, -5,\n",
        "    5, 10, 10, 10, 10, 10, 10, 5,\n",
        "    0, 0, 0, 0, 0, 0, 0, 0]\n",
        "\n",
        "queenstable = [\n",
        "    -20, -10, -10, -5, -5, -10, -10, -20,\n",
        "    -10, 0, 0, 0, 0, 0, 0, -10,\n",
        "    -10, 5, 5, 5, 5, 5, 0, -10,\n",
        "    0, 0, 5, 5, 5, 5, 0, -5,\n",
        "    -5, 0, 5, 5, 5, 5, 0, -5,\n",
        "    -10, 0, 5, 5, 5, 5, 0, -10,\n",
        "    -10, 0, 0, 0, 0, 0, 0, -10,\n",
        "    -20, -10, -10, -5, -5, -10, -10, -20]\n",
        "\n",
        "kingstable = [\n",
        "    20, 30, 10, 0, 0, 10, 30, 20,\n",
        "    20, 20, 0, 0, 0, 0, 20, 20,\n",
        "    -10, -20, -20, -20, -20, -20, -20, -10,\n",
        "    -20, -30, -30, -40, -40, -30, -30, -20,\n",
        "    -30, -40, -40, -50, -50, -40, -40, -30,\n",
        "    -30, -40, -40, -50, -50, -40, -40, -30,\n",
        "    -30, -40, -40, -50, -50, -40, -40, -30,\n",
        "    -30, -40, -40, -50, -50, -40, -40, -30]"
      ],
      "metadata": {
        "id": "ygb2jMbxOz8v"
      },
      "execution_count": 26,
      "outputs": []
    },
    {
      "cell_type": "code",
      "source": [
        "def alphabeta(tabuleiro, alpha, beta, depthleft):\n",
        "    bestscore = -9999\n",
        "    if (depthleft == 0):\n",
        "        return quiesce(tabuleiro, alpha, beta)\n",
        "    for move in tabuleiro.legal_moves:\n",
        "        tabuleiro.push(move)\n",
        "        score = -alphabeta(tabuleiro, -beta, -alpha, depthleft - 1)\n",
        "        tabuleiro.pop()\n",
        "        if (score >= beta):\n",
        "            return score\n",
        "        if (score > bestscore):\n",
        "            bestscore = score\n",
        "        if (score > alpha):\n",
        "            alpha = score\n",
        "    return bestscore"
      ],
      "metadata": {
        "id": "mojHTOLaO78V"
      },
      "execution_count": 28,
      "outputs": []
    },
    {
      "cell_type": "code",
      "source": [
        "def quiesce(tabuleiro, alpha, beta):\n",
        "\n",
        "    stand_pat = evaluate_board(tabuleiro)\n",
        "\n",
        "    if (stand_pat >= beta):\n",
        "        return beta\n",
        "    if (stand_pat > alpha):\n",
        "        alpha = stand_pat\n",
        "\n",
        "    for move in tabuleiro.legal_moves:\n",
        "        if tabuleiro.is_capture(move):\n",
        "            tabuleiro.push(move)\n",
        "            score = -quiesce(tabuleiro, -beta, -alpha)\n",
        "            tabuleiro.pop()\n",
        "            if (score >= beta):\n",
        "                return beta\n",
        "            if (score > alpha):\n",
        "                alpha = score\n",
        "    return alpha"
      ],
      "metadata": {
        "id": "-T-d1AIqPAM3"
      },
      "execution_count": 29,
      "outputs": []
    },
    {
      "cell_type": "code",
      "source": [
        "def evaluate_board(tabuleiro):\n",
        "  if tabuleiro.is_checkmate():\n",
        "        if tabuleiro.turn:\n",
        "            return -9999\n",
        "        else:\n",
        "            return 9999\n",
        "  if tabuleiro.is_stalemate():\n",
        "        return 0\n",
        "  if tabuleiro.is_insufficient_material():\n",
        "        return 0\n",
        "\n",
        "  material = MaterialScore().score(tabuleiro)\n",
        "\n",
        "  pawnsq = sum([pawntable[i] for i in tabuleiro.pieces(chess.PAWN, chess.WHITE)])\n",
        "  pawnsq = pawnsq + sum([-pawntable[chess.square_mirror(i)]\n",
        "                        for i in tabuleiro.pieces(chess.PAWN, chess.BLACK)])\n",
        "  knightsq = sum([knightstable[i] for i in tabuleiro.pieces(chess.KNIGHT, chess.WHITE)])\n",
        "  knightsq = knightsq + sum([-knightstable[chess.square_mirror(i)]\n",
        "                            for i in tabuleiro.pieces(chess.KNIGHT, chess.BLACK)])\n",
        "  bishopsq = sum([bishopstable[i] for i in tabuleiro.pieces(chess.BISHOP, chess.WHITE)])\n",
        "  bishopsq = bishopsq + sum([-bishopstable[chess.square_mirror(i)]\n",
        "                            for i in tabuleiro.pieces(chess.BISHOP, chess.BLACK)])\n",
        "  rooksq = sum([rookstable[i] for i in tabuleiro.pieces(chess.ROOK, chess.WHITE)])\n",
        "  rooksq = rooksq + sum([-rookstable[chess.square_mirror(i)]\n",
        "                        for i in tabuleiro.pieces(chess.ROOK, chess.BLACK)])\n",
        "  queensq = sum([queenstable[i] for i in tabuleiro.pieces(chess.QUEEN, chess.WHITE)])\n",
        "  queensq = queensq + sum([-queenstable[chess.square_mirror(i)]\n",
        "                          for i in tabuleiro.pieces(chess.QUEEN, chess.BLACK)])\n",
        "  kingsq = sum([kingstable[i] for i in tabuleiro.pieces(chess.KING, chess.WHITE)])\n",
        "  kingsq = kingsq + sum([-kingstable[chess.square_mirror(i)]\n",
        "                        for i in tabuleiro.pieces(chess.KING, chess.BLACK)])\n",
        "\n",
        "  eval = material + pawnsq + knightsq + bishopsq + rooksq + queensq + kingsq\n",
        "  if tabuleiro.turn:\n",
        "      return eval\n",
        "  else:\n",
        "      return -eval"
      ],
      "metadata": {
        "id": "1s15_7t6PF_Y"
      },
      "execution_count": 30,
      "outputs": []
    },
    {
      "cell_type": "code",
      "source": [
        "def selectmove(tabuleiro, depth):\n",
        "    bestMove = chess.Move.null()\n",
        "    bestValue = -99999\n",
        "    alpha = -100000\n",
        "    beta = 100000\n",
        "\n",
        "    for move in tabuleiro.legal_moves:\n",
        "        tabuleiro.push(move)\n",
        "        boardValue = -alphabeta(tabuleiro, -beta, -alpha, depth - 1)\n",
        "        print(boardValue)\n",
        "        if boardValue > bestValue:\n",
        "            bestValue = boardValue\n",
        "            bestMove = move\n",
        "        if boardValue > alpha:\n",
        "            alpha = boardValue\n",
        "        tabuleiro.pop()\n",
        "    return bestMove"
      ],
      "metadata": {
        "id": "wvwFN6ppnljR"
      },
      "execution_count": 31,
      "outputs": []
    },
    {
      "cell_type": "code",
      "source": [
        "import chess.engine\n",
        "from polyglot.core import Polyglot\n",
        "from IPython.display import SVG\n",
        "\n",
        "def is_legal_move(board, move_uci):\n",
        "    move = chess.Move.from_uci(move_uci)\n",
        "\n",
        "    # Verificar se a jogada é válida\n",
        "    if move in list(board.legal_moves):\n",
        "        board_copy = board.copy()\n",
        "        board_copy.push(move)\n",
        "        return True\n",
        "\n",
        "    return False\n",
        "\n",
        "def get_legal_move(move_uci, board):\n",
        "    if is_legal_move(board, move_uci):\n",
        "        return chess.Move.from_uci(move_uci)\n",
        "    else:\n",
        "        print(\"ilegal move... play other movement\")\n",
        "        movement = input(\"Enter your move (in UCI format): \")\n",
        "        return get_legal_move(movement, board)\n",
        "\n",
        "def main():\n",
        "\n",
        "    board = chess.Board()\n",
        "\n",
        "    count = 0\n",
        "    movehistory = []\n",
        "\n",
        "    while not board.is_game_over(claim_draw=True):\n",
        "\n",
        "        display(board)\n",
        "        print(movehistory)\n",
        "\n",
        "        if board.turn == chess.BLACK:\n",
        "            print(\"---Black turn---\")\n",
        "\n",
        "            try:\n",
        "                move = chess.polyglot.MemoryMappedReader(\"/content/human.bin\").weighted_choice(board).move\n",
        "            except:\n",
        "                move = selectmove(board, 3)\n",
        "        else:\n",
        "            count += 1\n",
        "            print(f'\\n{count}]\\n')\n",
        "            print(\"---White turn---\")\n",
        "            movement = input(\"Enter your move (in UCI format): \")\n",
        "            if movement == \"x\":\n",
        "                move = selectmove(board, 3)\n",
        "            else:\n",
        "                move = get_legal_move(movement, board)\n",
        "\n",
        "        movehistory.append(move)\n",
        "        board.push(move)\n",
        "\n",
        "\n",
        "    display(board)\n",
        "    print(\"Game Over\")\n",
        "    print(\"Result:\", board.result())\n",
        "\n",
        "if __name__ == \"__main__\":\n",
        "    main()\n"
      ],
      "metadata": {
        "id": "Z_bqbqVH6_n5"
      },
      "execution_count": null,
      "outputs": []
    }
  ]
}